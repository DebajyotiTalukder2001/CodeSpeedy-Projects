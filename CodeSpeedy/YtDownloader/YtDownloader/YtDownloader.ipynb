{
 "cells": [
  {
   "attachments": {},
   "cell_type": "markdown",
   "id": "4729c164",
   "metadata": {},
   "source": [
    "# pip install pytube"
   ]
  },
  {
   "attachments": {},
   "cell_type": "markdown",
   "id": "a6409911",
   "metadata": {},
   "source": [
    "# Import pytube module"
   ]
  },
  {
   "cell_type": "code",
   "execution_count": 2,
   "id": "610968a8",
   "metadata": {},
   "outputs": [
    {
     "name": "stdout",
     "output_type": "stream",
     "text": [
      "Enter YouTube Link:\n",
      "https://www.youtube.com/watch?v=xuP4g7IDgDM\n"
     ]
    }
   ],
   "source": [
    "from pytube import YouTube\n",
    "from IPython.display import YouTubeVideo\n",
    "print(\"Enter YouTube Link:\")\n",
    "URL = input()\n",
    "\n"
   ]
  },
  {
   "cell_type": "code",
   "execution_count": 3,
   "id": "a72e3f95",
   "metadata": {},
   "outputs": [
    {
     "data": {
      "image/jpeg": "[encoded data removed]",
      "text/html": [
       "\n",
       "        <iframe\n",
       "            width=\"400\"\n",
       "            height=\"300\"\n",
       "            src=\"https://www.youtube.com/embed/xuP4g7IDgDM\"\n",
       "            frameborder=\"0\"\n",
       "            allowfullscreen\n",
       "            \n",
       "        ></iframe>\n",
       "        "
      ],
      "text/plain": [
       "<IPython.lib.display.YouTubeVideo at 0x233dba70790>"
      ]
     },
     "metadata": {},
     "output_type": "display_data"
    }
   ],
   "source": [
    "video = YouTubeVideo(\"xuP4g7IDgDM\")\n",
    "display(video)"
   ]
  },
  {
   "cell_type": "code",
   "execution_count": 4,
   "id": "c4db8593",
   "metadata": {},
   "outputs": [
    {
     "name": "stdout",
     "output_type": "stream",
     "text": [
      "Stunning Sunset Seen From The Sea | Time lapse | 10 Seconds Video | Nature Blogs\n",
      "https://i.ytimg.com/vi/xuP4g7IDgDM/hq720.jpg?sqp=-oaymwEmCIAKENAF8quKqQMa8AEB-AHUBoAC4AOKAgwIABABGHIgTCg5MA8=&rs=AOn4CLCrknY45f3DqNxeYOqhh8h4a3An4Q\n"
     ]
    }
   ],
   "source": [
    "vid = YouTube(URL)\n",
    "print(vid.title)\n",
    "print(vid.thumbnail_url)"
   ]
  },
  {
   "attachments": {},
   "cell_type": "markdown",
   "id": "9e3720d0",
   "metadata": {},
   "source": [
    " \n",
    "# Filter Mp4 Files \n",
    "\n",
    "\n",
    "# videos = vid.streams.all() to show all streams"
   ]
  },
  {
   "cell_type": "code",
   "execution_count": 4,
   "id": "311363c1",
   "metadata": {},
   "outputs": [
    {
     "name": "stdout",
     "output_type": "stream",
     "text": [
      "(0, <Stream: itag=\"18\" mime_type=\"video/mp4\" res=\"360p\" fps=\"30fps\" vcodec=\"avc1.42001E\" acodec=\"mp4a.40.2\" progressive=\"True\" type=\"video\">)\n",
      "(1, <Stream: itag=\"22\" mime_type=\"video/mp4\" res=\"720p\" fps=\"30fps\" vcodec=\"avc1.64001F\" acodec=\"mp4a.40.2\" progressive=\"True\" type=\"video\">)\n",
      "\n"
     ]
    }
   ],
   "source": [
    "videos = vid.streams.filter(progressive=\"True\", file_extension='mp4')\n",
    "videoDownload = list(enumerate(videos))\n",
    "for i in videoDownload:\n",
    "    print(i)\n",
    "print()\n"
   ]
  },
  {
   "cell_type": "code",
   "execution_count": 38,
   "id": "8aa92d12",
   "metadata": {},
   "outputs": [
    {
     "name": "stdout",
     "output_type": "stream",
     "text": [
      "Enter index:\n",
      "1\n",
      "Video Downloaded Successfully\n"
     ]
    }
   ],
   "source": [
    "print(\"Enter index:\")\n",
    "strm = int(input())\n",
    "videos[strm].download(output_path='vid\\Downloads', filename='download.mp4')\n",
    "print(\"Video Downloaded Successfully\")\n",
    "\n",
    "\n"
   ]
  },
  {
   "attachments": {},
   "cell_type": "markdown",
   "id": "759ed229",
   "metadata": {},
   "source": [
    "# Play Video"
   ]
  },
  {
   "cell_type": "code",
   "execution_count": 1,
   "id": "f8a49890",
   "metadata": {},
   "outputs": [
    {
     "data": {
      "text/plain": [
       "True"
      ]
     },
     "execution_count": 1,
     "metadata": {},
     "output_type": "execute_result"
    }
   ],
   "source": [
    "import webbrowser\n",
    "webbrowser.open('vid\\Downloads\\download.mp4')"
   ]
  },
  {
   "cell_type": "code",
   "execution_count": null,
   "id": "44f185b5",
   "metadata": {},
   "outputs": [],
   "source": []
  }
 ],
 "metadata": {
  "kernelspec": {
   "display_name": "Python 3 (ipykernel)",
   "language": "python",
   "name": "python3"
  },
  "language_info": {
   "codemirror_mode": {
    "name": "ipython",
    "version": 3
   },
   "file_extension": ".py",
   "mimetype": "text/x-python",
   "name": "python",
   "nbconvert_exporter": "python",
   "pygments_lexer": "ipython3",
   "version": "3.10.9"
  }
 },
 "nbformat": 4,
 "nbformat_minor": 5
}
