{
 "cells": [
  {
   "cell_type": "code",
   "execution_count": 1,
   "id": "02ab9abc",
   "metadata": {},
   "outputs": [],
   "source": [
    "\n",
    "# Creating database\n",
    "# It captures images and stores them in datasets \n",
    "# folder under the folder name of sub_data\n",
    "import cv2, sys, numpy, os\n",
    "haar_file = 'haarcascade_frontalface_default.xml'\n",
    "  \n",
    "# All the faces data will be\n",
    "#  present this folder\n",
    "datasets = 'datasets'  \n",
    "  "
   ]
  },
  {
   "cell_type": "code",
   "execution_count": 2,
   "id": "1f66309f",
   "metadata": {},
   "outputs": [],
   "source": [
    "# These are sub data sets of folder, \n",
    "# for my faces I've used my name you can \n",
    "# change the label here\n",
    "sub_data = 'Debajyoti'     \n",
    "  \n",
    "path = os.path.join(datasets, sub_data)\n",
    "if not os.path.isdir(path):\n",
    "    os.mkdir(path)"
   ]
  },
  {
   "cell_type": "code",
   "execution_count": 3,
   "id": "066c3900",
   "metadata": {},
   "outputs": [],
   "source": [
    "# defining the size of images \n",
    "(width, height) = (130, 100)    \n",
    "  \n",
    "#'0' is used for my webcam, \n",
    "# if you've any other camera\n",
    "#  attached use '1' like this\n",
    "face_cascade = cv2.CascadeClassifier(haar_file)\n",
    "webcam = cv2.VideoCapture(0) "
   ]
  },
  {
   "cell_type": "code",
   "execution_count": 4,
   "id": "f9ca7c64",
   "metadata": {},
   "outputs": [
    {
     "ename": "error",
     "evalue": "OpenCV(4.7.0) D:\\a\\opencv-python\\opencv-python\\opencv\\modules\\imgproc\\src\\color.cpp:182: error: (-215:Assertion failed) !_src.empty() in function 'cv::cvtColor'\n",
     "output_type": "error",
     "traceback": [
      "\u001b[1;31m---------------------------------------------------------------------------\u001b[0m",
      "\u001b[1;31merror\u001b[0m                                     Traceback (most recent call last)",
      "Cell \u001b[1;32mIn[4], line 5\u001b[0m\n\u001b[0;32m      3\u001b[0m \u001b[38;5;28;01mwhile\u001b[39;00m count \u001b[38;5;241m<\u001b[39m \u001b[38;5;241m30\u001b[39m: \n\u001b[0;32m      4\u001b[0m     (_, im) \u001b[38;5;241m=\u001b[39m webcam\u001b[38;5;241m.\u001b[39mread()\n\u001b[1;32m----> 5\u001b[0m     gray \u001b[38;5;241m=\u001b[39m \u001b[43mcv2\u001b[49m\u001b[38;5;241;43m.\u001b[39;49m\u001b[43mcvtColor\u001b[49m\u001b[43m(\u001b[49m\u001b[43mim\u001b[49m\u001b[43m,\u001b[49m\u001b[43m \u001b[49m\u001b[43mcv2\u001b[49m\u001b[38;5;241;43m.\u001b[39;49m\u001b[43mCOLOR_BGR2GRAY\u001b[49m\u001b[43m)\u001b[49m\n\u001b[0;32m      6\u001b[0m     faces \u001b[38;5;241m=\u001b[39m face_cascade\u001b[38;5;241m.\u001b[39mdetectMultiScale(gray, \u001b[38;5;241m1.3\u001b[39m, \u001b[38;5;241m4\u001b[39m)\n\u001b[0;32m      7\u001b[0m     \u001b[38;5;28;01mfor\u001b[39;00m (x, y, w, h) \u001b[38;5;129;01min\u001b[39;00m faces:\n",
      "\u001b[1;31merror\u001b[0m: OpenCV(4.7.0) D:\\a\\opencv-python\\opencv-python\\opencv\\modules\\imgproc\\src\\color.cpp:182: error: (-215:Assertion failed) !_src.empty() in function 'cv::cvtColor'\n"
     ]
    }
   ],
   "source": [
    "# The program loops until it has 30 images of the face.\n",
    "count = 1\n",
    "while count < 30: \n",
    "    (_, im) = webcam.read()\n",
    "    gray = cv2.cvtColor(im, cv2.COLOR_BGR2GRAY)\n",
    "    faces = face_cascade.detectMultiScale(gray, 1.3, 4)\n",
    "    for (x, y, w, h) in faces:\n",
    "        cv2.rectangle(im, (x, y), (x + w, y + h), (255, 0, 0), 2)\n",
    "        face = gray[y:y + h, x:x + w]\n",
    "        face_resize = cv2.resize(face, (width, height))\n",
    "        cv2.imwrite('% s/% s.png' % (path, count), face_resize)\n",
    "    count += 1\n",
    "      \n",
    "    cv2.imshow('OpenCV', im)\n",
    "    key = cv2.waitKey(10)\n",
    "    if key == 27:\n",
    "        break"
   ]
  },
  {
   "cell_type": "code",
   "execution_count": null,
   "id": "c78fe0dd",
   "metadata": {},
   "outputs": [],
   "source": [
    "\n",
    "# It helps in identifying the faces\n",
    "import cv2, sys, numpy, os\n",
    "size = 4\n",
    "haar_file = 'haarcascade_frontalface_default.xml'\n",
    "datasets = 'datasets'"
   ]
  },
  {
   "cell_type": "code",
   "execution_count": null,
   "id": "81dd3a5e",
   "metadata": {},
   "outputs": [],
   "source": [
    "# Part 1: Create fisherRecognizer\n",
    "print('Recognizing Face Please Be in sufficient Lights...')\n",
    "  \n",
    "# Create a list of images and a list of corresponding names\n",
    "(images, labels, names, id) = ([], [], {}, 0)\n",
    "for (subdirs, dirs, files) in os.walk(datasets):\n",
    "    for subdir in dirs:\n",
    "        names[id] = subdir\n",
    "        subjectpath = os.path.join(datasets, subdir)\n",
    "        for filename in os.listdir(subjectpath):\n",
    "            path = subjectpath + '/' + filename\n",
    "            label = id\n",
    "            images.append(cv2.imread(path, 0))\n",
    "            labels.append(int(label))\n",
    "        id += 1\n",
    "(width, height) = (130, 100)\n",
    "  "
   ]
  },
  {
   "cell_type": "code",
   "execution_count": 38,
   "id": "a0e3ad6e",
   "metadata": {},
   "outputs": [
    {
     "ename": "AttributeError",
     "evalue": "module 'cv2' has no attribute 'face'",
     "output_type": "error",
     "traceback": [
      "\u001b[1;31m---------------------------------------------------------------------------\u001b[0m",
      "\u001b[1;31mAttributeError\u001b[0m                            Traceback (most recent call last)",
      "Cell \u001b[1;32mIn[38], line 6\u001b[0m\n\u001b[0;32m      2\u001b[0m (images, labels) \u001b[38;5;241m=\u001b[39m [numpy\u001b[38;5;241m.\u001b[39marray(lis) \u001b[38;5;28;01mfor\u001b[39;00m lis \u001b[38;5;129;01min\u001b[39;00m [images, labels]]\n\u001b[0;32m      4\u001b[0m \u001b[38;5;66;03m# OpenCV trains a model from the images\u001b[39;00m\n\u001b[0;32m      5\u001b[0m \u001b[38;5;66;03m# NOTE FOR OpenCV2: remove '.face'\u001b[39;00m\n\u001b[1;32m----> 6\u001b[0m model \u001b[38;5;241m=\u001b[39m \u001b[43mcv2\u001b[49m\u001b[38;5;241;43m.\u001b[39;49m\u001b[43mface\u001b[49m\u001b[38;5;241m.\u001b[39mLBPHFaceRecognizer_create()\n\u001b[0;32m      7\u001b[0m model\u001b[38;5;241m.\u001b[39mtrain(images, labels)\n",
      "\u001b[1;31mAttributeError\u001b[0m: module 'cv2' has no attribute 'face'"
     ]
    }
   ],
   "source": [
    "# Create a Numpy array from the two lists above\n",
    "(images, labels) = [numpy.array(lis) for lis in [images, labels]]\n",
    "  \n",
    "# OpenCV trains a model from the images\n",
    "# NOTE FOR OpenCV2: remove '.face'\n",
    "model = cv2.face.LBPHFaceRecognizer_create()\n",
    "model.train(images, labels)"
   ]
  },
  {
   "cell_type": "code",
   "execution_count": 39,
   "id": "3ab0120a",
   "metadata": {},
   "outputs": [
    {
     "ename": "NameError",
     "evalue": "name 'model' is not defined",
     "output_type": "error",
     "traceback": [
      "\u001b[1;31m---------------------------------------------------------------------------\u001b[0m",
      "\u001b[1;31mNameError\u001b[0m                                 Traceback (most recent call last)",
      "Cell \u001b[1;32mIn[39], line 13\u001b[0m\n\u001b[0;32m     11\u001b[0m face_resize \u001b[38;5;241m=\u001b[39m cv2\u001b[38;5;241m.\u001b[39mresize(face, (width, height))\n\u001b[0;32m     12\u001b[0m \u001b[38;5;66;03m# Try to recognize the face\u001b[39;00m\n\u001b[1;32m---> 13\u001b[0m prediction \u001b[38;5;241m=\u001b[39m \u001b[43mmodel\u001b[49m\u001b[38;5;241m.\u001b[39mpredict(face_resize)\n\u001b[0;32m     14\u001b[0m cv2\u001b[38;5;241m.\u001b[39mrectangle(im, (x, y), (x \u001b[38;5;241m+\u001b[39m w, y \u001b[38;5;241m+\u001b[39m h), (\u001b[38;5;241m0\u001b[39m, \u001b[38;5;241m255\u001b[39m, \u001b[38;5;241m0\u001b[39m), \u001b[38;5;241m3\u001b[39m)\n",
      "\u001b[1;31mNameError\u001b[0m: name 'model' is not defined"
     ]
    }
   ],
   "source": [
    "# Part 2: Use fisherRecognizer on camera stream\n",
    "face_cascade = cv2.CascadeClassifier(haar_file)\n",
    "webcam = cv2.VideoCapture(0)\n",
    "while True:\n",
    "    (_, im) = webcam.read()\n",
    "    gray = cv2.cvtColor(im, cv2.COLOR_BGR2GRAY)\n",
    "    faces = face_cascade.detectMultiScale(gray, 1.3, 5)\n",
    "    for (x, y, w, h) in faces:\n",
    "        cv2.rectangle(im, (x, y), (x + w, y + h), (255, 0, 0), 2)\n",
    "        face = gray[y:y + h, x:x + w]\n",
    "        face_resize = cv2.resize(face, (width, height))\n",
    "        # Try to recognize the face\n",
    "        prediction = model.predict(face_resize)\n",
    "        cv2.rectangle(im, (x, y), (x + w, y + h), (0, 255, 0), 3)"
   ]
  },
  {
   "cell_type": "code",
   "execution_count": null,
   "id": "9af6fc39",
   "metadata": {},
   "outputs": [],
   "source": [
    "if prediction[1]<500:\n",
    "  \n",
    "           cv2.putText(im, '% s - %.0f' % \n",
    "(names[prediction[0]], prediction[1]), (x-10, y-10), \n",
    "cv2.FONT_HERSHEY_PLAIN, 1, (0, 255, 0))\n",
    "        else:\n",
    "          cv2.putText(im, 'not recognized', \n",
    "(x-10, y-10), cv2.FONT_HERSHEY_PLAIN, 1, (0, 255, 0))\n",
    "  \n",
    "    cv2.imshow('OpenCV', im)\n",
    "      \n",
    "    key = cv2.waitKey(10)\n",
    "    if key == 27:\n",
    "        break"
   ]
  },
  {
   "cell_type": "code",
   "execution_count": null,
   "id": "e7a4fd47",
   "metadata": {},
   "outputs": [],
   "source": []
  }
 ],
 "metadata": {
  "kernelspec": {
   "display_name": "Python 3 (ipykernel)",
   "language": "python",
   "name": "python3"
  },
  "language_info": {
   "codemirror_mode": {
    "name": "ipython",
    "version": 3
   },
   "file_extension": ".py",
   "mimetype": "text/x-python",
   "name": "python",
   "nbconvert_exporter": "python",
   "pygments_lexer": "ipython3",
   "version": "3.10.9"
  }
 },
 "nbformat": 4,
 "nbformat_minor": 5
}
