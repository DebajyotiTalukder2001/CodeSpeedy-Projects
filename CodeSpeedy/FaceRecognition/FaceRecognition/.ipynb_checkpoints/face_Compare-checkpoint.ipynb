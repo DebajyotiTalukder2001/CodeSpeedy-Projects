{
 "cells": [
  {
   "cell_type": "markdown",
   "id": "50667d3a",
   "metadata": {},
   "source": [
    "# Import OpenCv and face_recognition Library"
   ]
  },
  {
   "cell_type": "code",
   "execution_count": 21,
   "id": "6d8eea1c",
   "metadata": {},
   "outputs": [],
   "source": [
    "\n",
    "import cv2\n",
    "import face_recognition"
   ]
  },
  {
   "cell_type": "code",
   "execution_count": 22,
   "id": "b92ae0dc",
   "metadata": {},
   "outputs": [],
   "source": [
    "\n",
    "image = cv2.imread('img/Messi4.jpg')\n",
    "container = 'imgshow'\n",
    "cv2.imshow(container, image)\n",
    "cv2.waitKey(0)\n",
    "cv2.destroyAllWindows()"
   ]
  },
  {
   "cell_type": "code",
   "execution_count": 23,
   "id": "b288e480",
   "metadata": {},
   "outputs": [],
   "source": [
    "image = cv2.imread('img/Modi2.jpg')\n",
    "container = 'imgshow'\n",
    "cv2.imshow(container, image)\n",
    "cv2.waitKey(0)\n",
    "cv2.destroyAllWindows()"
   ]
  },
  {
   "cell_type": "markdown",
   "id": "b5d06fc6",
   "metadata": {},
   "source": [
    "# Comapare two images if both have same face"
   ]
  },
  {
   "cell_type": "code",
   "execution_count": 25,
   "id": "07da6b20",
   "metadata": {},
   "outputs": [
    {
     "name": "stdout",
     "output_type": "stream",
     "text": [
      "Face not matched!!!\n"
     ]
    }
   ],
   "source": [
    "def compare_faces(image1, image2):\n",
    "  \"\"\"Compares two images and returns True if they have the same face.\"\"\"\n",
    "\n",
    "  face_encodings1 = face_recognition.face_encodings(image1)\n",
    "  face_encodings2 = face_recognition.face_encodings(image2)\n",
    "\n",
    "  for face_encoding1 in face_encodings1:\n",
    "    for face_encoding2 in face_encodings2:\n",
    "      distance = face_recognition.face_distance([face_encoding1], face_encoding2)\n",
    "      if distance < 0.6:\n",
    "        return True\n",
    "\n",
    "  return False\n",
    "\n",
    "if __name__ == \"__main__\":\n",
    "  image1 = face_recognition.load_image_file('img/Messi4.jpg')\n",
    "  image2 = face_recognition.load_image_file('img/Modi2.jpg')\n",
    "\n",
    "  if compare_faces(image1, image2):\n",
    "    print(\"Face matched!!!\")\n",
    "  else:\n",
    "    print(\"Face not matched!!!\")"
   ]
  },
  {
   "cell_type": "code",
   "execution_count": null,
   "id": "91d6a39b",
   "metadata": {},
   "outputs": [],
   "source": []
  }
 ],
 "metadata": {
  "kernelspec": {
   "display_name": "Python 3 (ipykernel)",
   "language": "python",
   "name": "python3"
  },
  "language_info": {
   "codemirror_mode": {
    "name": "ipython",
    "version": 3
   },
   "file_extension": ".py",
   "mimetype": "text/x-python",
   "name": "python",
   "nbconvert_exporter": "python",
   "pygments_lexer": "ipython3",
   "version": "3.10.9"
  }
 },
 "nbformat": 4,
 "nbformat_minor": 5
}
