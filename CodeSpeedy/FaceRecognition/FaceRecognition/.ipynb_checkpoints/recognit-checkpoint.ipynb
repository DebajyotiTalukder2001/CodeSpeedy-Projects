{
 "cells": [
  {
   "cell_type": "code",
   "execution_count": 6,
   "id": "6d8eea1c",
   "metadata": {},
   "outputs": [],
   "source": [
    "\n",
    "import cv2\n",
    "import face_recognition"
   ]
  },
  {
   "cell_type": "code",
   "execution_count": 7,
   "id": "2560db17",
   "metadata": {},
   "outputs": [],
   "source": [
    "img = cv2.imread(\"img/CR1.jpg\")\n",
    "rgb_img = cv2.cvtColor(img, cv2.COLOR_BGR2RGB)\n",
    "img_encoding = face_recognition.face_encodings(rgb_img)[0]\n"
   ]
  },
  {
   "cell_type": "code",
   "execution_count": 8,
   "id": "b81f6481",
   "metadata": {},
   "outputs": [],
   "source": [
    "# Reading an image in default mode\n",
    "image = cv2.imread('img/CR1.jpg')\n",
    "  \n",
    "# Window name in which image is displayed\n",
    "window_name = 'image'\n",
    "  \n",
    "# Using cv2.imshow() method\n",
    "# Displaying the image\n",
    "cv2.imshow(window_name, image)\n",
    "\n",
    "# waits for user to press any key\n",
    "# (this is necessary to avoid Python kernel form crashing)\n",
    "cv2.waitKey(0)\n",
    "  \n",
    "# closing all open windows\n",
    "cv2.destroyAllWindows()"
   ]
  },
  {
   "cell_type": "code",
   "execution_count": 9,
   "id": "a374fd3a",
   "metadata": {},
   "outputs": [],
   "source": [
    "img2 = cv2.imread(\"img/CR2.jpg\")\n",
    "rgb_img2 = cv2.cvtColor(img2, cv2.COLOR_BGR2RGB)\n",
    "img_encoding2 = face_recognition.face_encodings(rgb_img2)[0]"
   ]
  },
  {
   "cell_type": "code",
   "execution_count": 10,
   "id": "94c84f87",
   "metadata": {},
   "outputs": [],
   "source": [
    "# Reading an image in default mode\n",
    "image = cv2.imread('img/CR2.jpg')\n",
    "  \n",
    "# Window name in which image is displayed\n",
    "window_name = 'image'\n",
    "  \n",
    "# Using cv2.imshow() method\n",
    "# Displaying the image\n",
    "cv2.imshow(window_name, image)\n",
    "\n",
    "# waits for user to press any key\n",
    "# (this is necessary to avoid Python kernel form crashing)\n",
    "cv2.waitKey(0)\n",
    "  \n",
    "# closing all open windows\n",
    "cv2.destroyAllWindows()"
   ]
  },
  {
   "cell_type": "code",
   "execution_count": 11,
   "id": "7fe01a6d",
   "metadata": {},
   "outputs": [
    {
     "name": "stdout",
     "output_type": "stream",
     "text": [
      "Result:  [True]\n"
     ]
    }
   ],
   "source": [
    "result = face_recognition.compare_faces([img_encoding], img_encoding2)\n",
    "print(\"Result: \", result)"
   ]
  },
  {
   "cell_type": "code",
   "execution_count": 12,
   "id": "29aec20b",
   "metadata": {},
   "outputs": [
    {
     "name": "stdout",
     "output_type": "stream",
     "text": [
      "Face Matched!!!\n"
     ]
    }
   ],
   "source": [
    "\n",
    "if(result == [True]):\n",
    "    print(\"Face Matched!!!\")\n",
    "else:\n",
    "    print(\"Face Not Matched !!!\")"
   ]
  },
  {
   "cell_type": "code",
   "execution_count": null,
   "id": "e7c4ab40",
   "metadata": {},
   "outputs": [],
   "source": []
  },
  {
   "cell_type": "code",
   "execution_count": null,
   "id": "3450a6e2",
   "metadata": {},
   "outputs": [],
   "source": []
  }
 ],
 "metadata": {
  "kernelspec": {
   "display_name": "Python 3 (ipykernel)",
   "language": "python",
   "name": "python3"
  },
  "language_info": {
   "codemirror_mode": {
    "name": "ipython",
    "version": 3
   },
   "file_extension": ".py",
   "mimetype": "text/x-python",
   "name": "python",
   "nbconvert_exporter": "python",
   "pygments_lexer": "ipython3",
   "version": "3.10.9"
  }
 },
 "nbformat": 4,
 "nbformat_minor": 5
}
